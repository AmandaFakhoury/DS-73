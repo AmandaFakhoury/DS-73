{
 "cells": [
  {
   "cell_type": "code",
   "execution_count": 1,
   "metadata": {},
   "outputs": [],
   "source": [
    "#Importing Libraries needed \n",
    "import pandas as pd"
   ]
  },
  {
   "cell_type": "code",
   "execution_count": 2,
   "metadata": {},
   "outputs": [
    {
     "name": "stderr",
     "output_type": "stream",
     "text": [
      "/Users/AmandaFakhoury/opt/anaconda3/lib/python3.7/site-packages/IPython/core/interactiveshell.py:3063: DtypeWarning: Columns (33,51) have mixed types.Specify dtype option on import or set low_memory=False.\n",
      "  interactivity=interactivity, compiler=compiler, result=result)\n"
     ]
    }
   ],
   "source": [
    "df = pd.read_csv(\"productData.csv\") #Reading Data\n",
    "dff = df.loc[df['sold_by_third_party'] == 't'] #Choosing only sold by third party products \n",
    "sellers = list(dff['seller_name'].unique()) #Creating a list of all sellers "
   ]
  },
  {
   "cell_type": "code",
   "execution_count": 3,
   "metadata": {},
   "outputs": [],
   "source": [
    "#Diving Sellers based on Seller name \n",
    "#if seller name in this form: 'book182wire\\n12 New from $56.98\\n\\n\\n\\n\\n\\nSelect delivery location' then seller is separated from rest \n",
    "special_sellers = [] \n",
    "reg_sellers = [] \n",
    "for i in sellers: \n",
    "    if 'New from' in str(i):\n",
    "        special_sellers.append(i)\n",
    "    else: \n",
    "        reg_sellers.append(i)\n",
    "        "
   ]
  },
  {
   "cell_type": "code",
   "execution_count": 4,
   "metadata": {},
   "outputs": [],
   "source": [
    "#Creating a list of dataframe for each sellers based on seller name along with whether the seller name is in previous form shown above\n",
    "dfs_special = [] \n",
    "for i in special_sellers: \n",
    "    dfs_special.append(dff.loc[dff['seller_name'] == i])\n",
    "    \n",
    "special_dfs = pd.concat(dfs_special) #Merging list of all data for sellers with the incorrect form \n",
    "\n",
    "\n",
    "dfs_reg = [] \n",
    "for i in reg_sellers: \n",
    "    dfs_reg.append(dff.loc[dff['seller_name'] == i])\n",
    "    \n",
    "reg_dfs = pd.concat(dfs_reg) #Merging list of all data for sellers with regular form "
   ]
  },
  {
   "cell_type": "code",
   "execution_count": 5,
   "metadata": {},
   "outputs": [],
   "source": [
    "#Fixing Seller Name to remove extra characters and include only the seller name\n",
    "seller_new = []\n",
    "for i in special_dfs['seller_name']: \n",
    "    seller_new.append(i[:i.index('\\n')])\n",
    "    \n",
    "special_dfs['seller_name'] = seller_new #Replacing old seller name with correct form of seller name "
   ]
  },
  {
   "cell_type": "code",
   "execution_count": null,
   "metadata": {},
   "outputs": [],
   "source": [
    "final = pd.concat([df2 , df1]) #Merging the two sets of dataframes together \n",
    "final.to_csv(\"Final_CleanedData.csv\", index = False) #Saving Dataframe with seller name fixed as a csv file "
   ]
  }
 ],
 "metadata": {
  "kernelspec": {
   "display_name": "Python 3",
   "language": "python",
   "name": "python3"
  },
  "language_info": {
   "codemirror_mode": {
    "name": "ipython",
    "version": 3
   },
   "file_extension": ".py",
   "mimetype": "text/x-python",
   "name": "python",
   "nbconvert_exporter": "python",
   "pygments_lexer": "ipython3",
   "version": "3.7.6"
  }
 },
 "nbformat": 4,
 "nbformat_minor": 4
}
